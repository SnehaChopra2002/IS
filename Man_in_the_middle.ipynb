{
  "nbformat": 4,
  "nbformat_minor": 0,
  "metadata": {
    "colab": {
      "provenance": []
    },
    "kernelspec": {
      "name": "python3",
      "display_name": "Python 3"
    },
    "language_info": {
      "name": "python"
    }
  },
  "cells": [
    {
      "cell_type": "code",
      "execution_count": 1,
      "metadata": {
        "colab": {
          "base_uri": "https://localhost:8080/"
        },
        "id": "ig4U-_kThZSF",
        "outputId": "76514896-a924-4d87-c7f5-f044543e2182"
      },
      "outputs": [
        {
          "output_type": "stream",
          "name": "stdout",
          "text": [
            "Alice sends Xa to Bob 8\n",
            "Bob sends Xb to Alice 3\n",
            "Darth intercepts Xa and sends Xc to Bob 1\n",
            "Darth intercepts Xb and sends Xd to Alice 12\n",
            "Darth calculates secret key of ALice:  18\n",
            "Darth calculates secret key of Bob:  1\n",
            "Alice calculates secret key unaware of the attack:  18\n",
            "Bob calculates secret key unaware of the attack:  1\n"
          ]
        }
      ],
      "source": [
        "def deffie(a,b,g,p):\n",
        "  Xa=pow(g,a)%p\n",
        "  Xb=pow(g,b)%p\n",
        "  return Xa, Xb\n",
        "\n",
        "p=23\n",
        "g=9\n",
        "\n",
        "priv_a = 5\n",
        "priv_b = 6\n",
        "\n",
        "priv_c=11\n",
        "priv_d=13\n",
        "\n",
        "Xa,Xb=deffie(priv_a,priv_b,g,p)\n",
        "print(\"Alice sends Xa to Bob\",Xa)\n",
        "print(\"Bob sends Xb to Alice\",Xb)\n",
        "\n",
        "Xc,Xd=deffie(priv_c,priv_d,g,p)\n",
        "print(\"Darth intercepts Xa and sends Xc to Bob\",Xc)\n",
        "print(\"Darth intercepts Xb and sends Xd to Alice\",Xd)\n",
        "\n",
        "DKa=pow(Xa,priv_d)%p\n",
        "DKb=pow(Xb,priv_c)%p\n",
        "\n",
        "print(\"Darth calculates secret key of ALice: \",DKa)\n",
        "print(\"Darth calculates secret key of Bob: \",DKb)\n",
        "\n",
        "Ka=pow(Xd,priv_a)%p\n",
        "Kb=pow(Xc,priv_b)%p\n",
        "print(\"Alice calculates secret key unaware of the attack: \",Ka)\n",
        "print(\"Bob calculates secret key unaware of the attack: \",Kb)"
      ]
    },
    {
      "cell_type": "code",
      "source": [],
      "metadata": {
        "id": "j78sKy2OhaeS"
      },
      "execution_count": null,
      "outputs": []
    }
  ]
}