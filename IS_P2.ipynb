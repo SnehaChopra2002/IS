{
  "nbformat": 4,
  "nbformat_minor": 0,
  "metadata": {
    "colab": {
      "provenance": []
    },
    "kernelspec": {
      "name": "python3",
      "display_name": "Python 3"
    },
    "language_info": {
      "name": "python"
    }
  },
  "cells": [
    {
      "cell_type": "code",
      "execution_count": 1,
      "metadata": {
        "id": "CO1dm_vZfw3N"
      },
      "outputs": [],
      "source": [
        "# Euclidean\n",
        "def Euclidean_GCD(a,b):\n",
        "  while b:\n",
        "    a,b=b,a%b\n",
        "  return a\n",
        "\n",
        "a=Euclidean_GCD(50,6)\n",
        "print(a)"
      ]
    },
    {
      "cell_type": "code",
      "source": [
        "# Extended Euclidean\n",
        "def extended_euclidean(a,b):\n",
        "  # Q A B T1 T2 T\n",
        "  a,b=max(a,b),min(a,b)\n",
        "  T1,T2=0,1\n",
        "  while b:\n",
        "    Q=a//b\n",
        "    a,b=b,a%b\n",
        "    T1,T2=T2,T1-T2 * Q\n",
        "  if T1<0:\n",
        "    T1+=a\n",
        "  return T1\n",
        "num=extended_euclidean(9,20)\n",
        "print(num)"
      ],
      "metadata": {
        "colab": {
          "base_uri": "https://localhost:8080/"
        },
        "id": "4cYUEgvYg64_",
        "outputId": "24f54d24-d24c-4278-a5de-f32da01e2f95"
      },
      "execution_count": 6,
      "outputs": [
        {
          "output_type": "stream",
          "name": "stdout",
          "text": [
            "9\n"
          ]
        }
      ]
    },
    {
      "cell_type": "code",
      "source": [
        "# Caesar Cipher\n",
        "alphabets=\"abcdefghijklmnopqrstuvwxyz\"\n",
        "alphabets=[char for char in alphabets]\n",
        "\n",
        "def encryption(PT,k,alphabets):\n",
        "  CT=[alphabets.indexOf(i) for i in PT if i!=' ']\n",
        "  CT=[(c+k)%26 for c in CT]\n",
        ""
      ],
      "metadata": {
        "id": "9GNEqXDZhdM_"
      },
      "execution_count": null,
      "outputs": []
    },
    {
      "cell_type": "code",
      "source": [
        "# PlayFair\n",
        "alphabets='ABCDEFGHIKLMNOPQRSTUVWXYZ'\n",
        "key=\"MONARCHY\"\n",
        "PT=\"INSTRUMENT\"\n",
        "row,col=5,5\n",
        "matrix=[[' ' for j in range(col)] for i in range(row)]\n",
        "key_set=[]\n",
        "\n",
        "r,c=0,0\n",
        "for char in key:\n",
        "  if char not in key_set:\n",
        "    key_set.append(char)\n",
        "    matrix[r][c]=char\n",
        "    c+=1\n",
        "    if c==5:\n",
        "      c=0\n",
        "      r+=1\n",
        "matrix\n",
        "\n",
        "for alpha in alphabets:\n",
        "  if alpha not in key_set:\n",
        "    matrix[r][c]=alpha\n",
        "    c+=1\n",
        "    if c==5:\n",
        "      c=0\n",
        "      r+=1\n",
        "matrix"
      ],
      "metadata": {
        "colab": {
          "base_uri": "https://localhost:8080/"
        },
        "id": "Gdq82ZkW1MBB",
        "outputId": "915e1f70-5ea5-4e75-fe4a-536d8aef3bd9"
      },
      "execution_count": 2,
      "outputs": [
        {
          "output_type": "execute_result",
          "data": {
            "text/plain": [
              "[['M', 'O', 'N', 'A', 'R'],\n",
              " ['C', 'H', 'Y', 'B', 'D'],\n",
              " ['E', 'F', 'G', 'I', 'K'],\n",
              " ['L', 'P', 'Q', 'S', 'T'],\n",
              " ['U', 'V', 'W', 'X', 'Z']]"
            ]
          },
          "metadata": {},
          "execution_count": 2
        }
      ]
    },
    {
      "cell_type": "code",
      "source": [
        "def findcharposition(c):\n",
        "  for i in range(row):\n",
        "    for j in range(col):\n",
        "      if(matrix[i][j]==c):\n",
        "        return i,j"
      ],
      "metadata": {
        "id": "-M3OB6IRKNOH"
      },
      "execution_count": 4,
      "outputs": []
    },
    {
      "cell_type": "code",
      "source": [
        "encrypted_message = ''\n",
        "PT = list(PT)\n",
        "\n",
        "for i in range(0, len(PT), 2):  # Fix the range function to iterate in pairs\n",
        "    chr1, chr2 = PT[i], PT[i+1]  # Extract two characters from plaintext\n",
        "    x1, y1 = findcharposition(chr1)  # Get positions of characters in the matrix\n",
        "    x2, y2 = findcharposition(chr2)\n",
        "\n",
        "    if y1 == y2:\n",
        "        encrypted_message += matrix[(x1 + 1) % 5][y1]\n",
        "        encrypted_message += matrix[(x2 + 1) % 5][y2]\n",
        "    elif x1 == x2:\n",
        "        encrypted_message += matrix[x1][(y1 + 1) % 5]\n",
        "        encrypted_message += matrix[x2][(y2 + 1) % 5]\n",
        "    else:\n",
        "        encrypted_message += matrix[x1][y2]\n",
        "        encrypted_message += matrix[x2][y1]"
      ],
      "metadata": {
        "id": "uBSnzL2j4orE"
      },
      "execution_count": 5,
      "outputs": []
    },
    {
      "cell_type": "code",
      "source": [
        "PT"
      ],
      "metadata": {
        "colab": {
          "base_uri": "https://localhost:8080/"
        },
        "id": "oEE3MkPC6ACs",
        "outputId": "85f7eca0-50ae-4cc5-f593-347f6ca5be0f"
      },
      "execution_count": 6,
      "outputs": [
        {
          "output_type": "execute_result",
          "data": {
            "text/plain": [
              "['I', 'N', 'S', 'T', 'R', 'U', 'M', 'E', 'N', 'T']"
            ]
          },
          "metadata": {},
          "execution_count": 6
        }
      ]
    },
    {
      "cell_type": "code",
      "source": [
        "encrypted_message"
      ],
      "metadata": {
        "colab": {
          "base_uri": "https://localhost:8080/",
          "height": 35
        },
        "id": "6ArmVosZLc3e",
        "outputId": "57da67df-e222-4f4d-9b8e-2d60119a5bfb"
      },
      "execution_count": 7,
      "outputs": [
        {
          "output_type": "execute_result",
          "data": {
            "text/plain": [
              "'GATLMZCLRQ'"
            ],
            "application/vnd.google.colaboratory.intrinsic+json": {
              "type": "string"
            }
          },
          "metadata": {},
          "execution_count": 7
        }
      ]
    },
    {
      "cell_type": "code",
      "source": [
        "# Railfence\n",
        "def rail_matrix(PT,depth):\n",
        "  PT=[i for i in PT if i!=' ']\n",
        "  matrix=[[' ' for i in range(len(PT))] for j in range(depth)]\n",
        "\n",
        "  dir_down=False\n",
        "  row,col=0,0\n",
        "  for i in range(len(PT)):\n",
        "    if (row==0) or (row==depth-1) :\n",
        "      dir_down = not dir_down\n",
        "    matrix[row][col]=PT[i]\n",
        "    col=col+1\n",
        "    if dir_down:\n",
        "      row=row+1\n",
        "    else:\n",
        "      row=row-1\n",
        "\n",
        "  result=[element for row in matrix for element in row if element!=' ']\n",
        "  res_string=''.join(result)\n",
        "  print(res_string)\n",
        "  return res_string"
      ],
      "metadata": {
        "id": "knZD0fcfLiPy"
      },
      "execution_count": 8,
      "outputs": []
    },
    {
      "cell_type": "code",
      "source": [
        "import random\n",
        "import numpy as np\n",
        "# Columnar\n",
        "def fill_matrix(PT,rows,columns):\n",
        "  PT=[i for i in PT]\n",
        "  matrix=[[' ' for j in range(columns)] for i in range(rows)]\n",
        "  remaining= rows*columns - len(PT)\n",
        "  alphabet='xyz'\n",
        "  for i in range(remaining):\n",
        "    PT.append(random.choice(alphabet))\n",
        "\n",
        "  matrix=[]\n",
        "  for i in range(0,len(PT),columns):\n",
        "    matrix.append(PT[i:i+columns])\n",
        "\n",
        "  matrix=np.array(matrix)\n",
        "  return(np.transpose(matrix))\n",
        "\n",
        "keyword=[]\n",
        "def read_matrix(matrix,keyword):\n",
        "  reshuffled=[matrix[i-1] for i in keyword]\n",
        "  flattened=[element for row in matrix for element in row]\n",
        "  string=''.join(flattened)\n",
        "  print(string)"
      ],
      "metadata": {
        "id": "3raPSExNNHbC"
      },
      "execution_count": 11,
      "outputs": []
    },
    {
      "cell_type": "code",
      "source": [
        "# Vernam cipher\n",
        "\n",
        "def vernam(m,k):\n",
        "  # m=m.upper()\n",
        "  ans=\"\"\n",
        "  for i,j in zip(m,k):\n",
        "    ans+=chr((((ord(i)-ord('A'))^(ord(j)-ord('A')))%26)+ord('A'))\n",
        "  return ans"
      ],
      "metadata": {
        "id": "wUWqJ0EoQLdD"
      },
      "execution_count": 13,
      "outputs": []
    },
    {
      "cell_type": "code",
      "source": [],
      "metadata": {
        "id": "FaGKqAoVUQS6"
      },
      "execution_count": null,
      "outputs": []
    }
  ]
}