{
  "nbformat": 4,
  "nbformat_minor": 0,
  "metadata": {
    "colab": {
      "provenance": []
    },
    "kernelspec": {
      "name": "python3",
      "display_name": "Python 3"
    },
    "language_info": {
      "name": "python"
    }
  },
  "cells": [
    {
      "cell_type": "code",
      "source": [
        "import math"
      ],
      "metadata": {
        "id": "fzUrFIRAnkDS"
      },
      "execution_count": null,
      "outputs": []
    },
    {
      "cell_type": "code",
      "execution_count": null,
      "metadata": {
        "colab": {
          "base_uri": "https://localhost:8080/"
        },
        "id": "VEGc4CS5jxNQ",
        "outputId": "74adfb93-56e9-4749-977a-d08992ccb23f"
      },
      "outputs": [
        {
          "output_type": "stream",
          "name": "stdout",
          "text": [
            "Enter a prime no.11\n",
            "Enter a prime no.17\n",
            "187\n"
          ]
        }
      ],
      "source": [
        "p=int(input(\"Enter a prime no.\"))\n",
        "q=int(input(\"Enter a prime no.\"))\n",
        "n=p*q\n",
        "print(n)"
      ]
    },
    {
      "cell_type": "code",
      "source": [
        "tot=(p-1)*(q-1)\n",
        "print(\"Totient : \",tot)"
      ],
      "metadata": {
        "colab": {
          "base_uri": "https://localhost:8080/"
        },
        "id": "cSiUXEIBkC4Y",
        "outputId": "d8bebb94-3add-499b-c48c-5e8907918bfc"
      },
      "execution_count": null,
      "outputs": [
        {
          "output_type": "stream",
          "name": "stdout",
          "text": [
            "Totient :  160\n"
          ]
        }
      ]
    },
    {
      "cell_type": "code",
      "source": [
        "def gcd(a,b):\n",
        "  while b:\n",
        "    a,b = b,a%b\n",
        "  return a"
      ],
      "metadata": {
        "id": "BOEud99Nkw3X"
      },
      "execution_count": null,
      "outputs": []
    },
    {
      "cell_type": "code",
      "source": [
        "def is_prime(num):\n",
        "    if num < 2:\n",
        "        return False\n",
        "    for i in range(2, int(math.sqrt(num)) + 1):\n",
        "        if num % i == 0:\n",
        "            return False\n",
        "    return True"
      ],
      "metadata": {
        "id": "XA8OTk9ynWwI"
      },
      "execution_count": null,
      "outputs": []
    },
    {
      "cell_type": "code",
      "source": [
        "def e_gen(tot):\n",
        "  for e in range(2,tot):\n",
        "    if (gcd(e,tot)==1 & is_prime(e)):\n",
        "      print(\"e = \",e)\n",
        "      return e\n",
        "e=e_gen(tot)"
      ],
      "metadata": {
        "colab": {
          "base_uri": "https://localhost:8080/"
        },
        "id": "cRguhCiEkNko",
        "outputId": "dc22a9d3-f9f2-4acf-a9d4-4813a1e9a3e5"
      },
      "execution_count": null,
      "outputs": [
        {
          "output_type": "stream",
          "name": "stdout",
          "text": [
            "e =  3\n"
          ]
        }
      ]
    },
    {
      "cell_type": "code",
      "source": [
        "def mod_inverse(e,phi):\n",
        "  # Q A B R T1 T2 T\n",
        "  d=0\n",
        "  T1,T2=0,1\n",
        "  A,B=phi,e\n",
        "\n",
        "  while B:\n",
        "    Q=A//B\n",
        "    A,B=B,A%B\n",
        "    T1,T2=T2,T1-T2*Q\n",
        "  if T1<0:\n",
        "    T1+=phi\n",
        "  print(T1)\n",
        "  return T1"
      ],
      "metadata": {
        "id": "K9tHr4YshXNF"
      },
      "execution_count": null,
      "outputs": []
    },
    {
      "cell_type": "code",
      "source": [
        "d=mod_inverse(e,tot)"
      ],
      "metadata": {
        "colab": {
          "base_uri": "https://localhost:8080/"
        },
        "id": "WC94MPTd8ZyQ",
        "outputId": "f980d1c9-aef7-436c-de96-9d15a72e842b"
      },
      "execution_count": null,
      "outputs": [
        {
          "output_type": "stream",
          "name": "stdout",
          "text": [
            "107\n"
          ]
        }
      ]
    },
    {
      "cell_type": "code",
      "source": [
        "PT=77\n",
        "CT=(PT**e)%n\n",
        "print(CT)\n",
        "\n",
        "PT1=(CT**d)%n\n",
        "print(PT1)"
      ],
      "metadata": {
        "colab": {
          "base_uri": "https://localhost:8080/"
        },
        "id": "2WmfPIcU8wuP",
        "outputId": "e256d566-80bc-462c-d051-ed71a56d3c15"
      },
      "execution_count": null,
      "outputs": [
        {
          "output_type": "stream",
          "name": "stdout",
          "text": [
            "66\n",
            "77\n"
          ]
        }
      ]
    },
    {
      "cell_type": "code",
      "source": [],
      "metadata": {
        "id": "zk-KaBVD_WNA"
      },
      "execution_count": null,
      "outputs": []
    }
  ]
}